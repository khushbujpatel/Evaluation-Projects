{
 "cells": [
  {
   "cell_type": "code",
   "execution_count": 1,
   "id": "b64f1079-f23b-4e2b-822e-e55094ac19ff",
   "metadata": {},
   "outputs": [],
   "source": [
    "import numpy as np\n",
    "import matplotlib.pyplot as plt\n",
    "from sklearn.datasets import fetch_openml"
   ]
  },
  {
   "cell_type": "code",
   "execution_count": 2,
   "id": "73f1b85f-4911-4bce-8834-4bbe4add3d4d",
   "metadata": {},
   "outputs": [],
   "source": [
    "# PCA from scratch\n",
    "class PCA_Scratch:\n",
    "    def __init__(self, n_components):\n",
    "        self.n_components = n_components\n",
    "        self.components = None\n",
    "        self.mean = None\n",
    "\n",
    "    def fit(self, X):\n",
    "        self.mean = np.mean(X, axis=0)\n",
    "        X_centered = X - self.mean\n",
    "        cov_matrix = np.cov(X_centered, rowvar=False)\n",
    "        eigenvalues, eigenvectors = np.linalg.eigh(cov_matrix)\n",
    "        sorted_idx = np.argsort(eigenvalues)[::-1]\n",
    "        self.components = eigenvectors[:, sorted_idx[:self.n_components]]\n",
    "\n",
    "    def transform(self, X):\n",
    "        X_centered = X - self.mean\n",
    "        return np.dot(X_centered, self.components)"
   ]
  },
  {
   "cell_type": "code",
   "execution_count": null,
   "id": "ab1c80bc-a66a-4697-8ff5-d969d88da291",
   "metadata": {},
   "outputs": [],
   "source": [
    "# Load and preprocess MNIST\n",
    "mnist = fetch_openml(\"mnist_784\", version=1)\n",
    "X = mnist.data.values[:1000]  # Use a smaller subset for speed\n",
    "y = mnist.target.astype(int)[:1000]\n",
    "X_scaled = X / 255.0  # Normalize pixel values\n",
    "\n",
    "# Apply PCA\n",
    "pca = PCA_Scratch(n_components=2)\n",
    "pca.fit(X_scaled)\n",
    "X_pca = pca.transform(X_scaled)\n",
    "\n",
    "# Plot first two principal components\n",
    "plt.figure(figsize=(8, 6))\n",
    "plt.scatter(X_pca[:, 0], X_pca[:, 1], c=y, cmap='viridis', edgecolor='k', s=50)\n",
    "plt.colorbar(label='Digit Label')\n",
    "plt.title('PCA: First Two Principal Components of MNIST')\n",
    "plt.xlabel('Principal Component 1')\n",
    "plt.ylabel('Principal Component 2')\n",
    "plt.show()"
   ]
  },
  {
   "cell_type": "code",
   "execution_count": null,
   "id": "08823325-9443-4313-be26-8986e52234b1",
   "metadata": {},
   "outputs": [],
   "source": []
  }
 ],
 "metadata": {
  "kernelspec": {
   "display_name": "Python 3 (ipykernel)",
   "language": "python",
   "name": "python3"
  },
  "language_info": {
   "codemirror_mode": {
    "name": "ipython",
    "version": 3
   },
   "file_extension": ".py",
   "mimetype": "text/x-python",
   "name": "python",
   "nbconvert_exporter": "python",
   "pygments_lexer": "ipython3",
   "version": "3.12.4"
  }
 },
 "nbformat": 4,
 "nbformat_minor": 5
}
