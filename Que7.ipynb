{
 "cells": [
  {
   "cell_type": "code",
   "execution_count": 3,
   "id": "14ec1a38-0867-4c78-9fb4-5a7d70d1314e",
   "metadata": {},
   "outputs": [],
   "source": [
    "import numpy as np\n",
    "from sklearn.datasets import load_iris\n",
    "from sklearn.model_selection import train_test_split\n",
    "from sklearn.metrics import accuracy_score"
   ]
  },
  {
   "cell_type": "code",
   "execution_count": 4,
   "id": "eda97ad7-edb7-4402-a5d0-f4d73d8ca57f",
   "metadata": {},
   "outputs": [],
   "source": [
    "# SVM implementation from scratch using hinge loss\n",
    "class SVM:\n",
    "    def __init__(self, learning_rate=0.01, lambda_param=0.01, n_iterations=1000):\n",
    "        self.learning_rate = learning_rate\n",
    "        self.lambda_param = lambda_param\n",
    "        self.n_iterations = n_iterations\n",
    "        self.weights = None\n",
    "        self.bias = 0\n",
    "\n",
    "    def hinge_loss(self, X, y):\n",
    "        \"\"\"Compute the hinge loss\"\"\"\n",
    "        margin = 1 - y * (np.dot(X, self.weights) + self.bias)\n",
    "        loss = np.maximum(0, margin)\n",
    "        return np.mean(loss)\n",
    "\n",
    "    def fit(self, X, y):\n",
    "        \"\"\"Train the SVM using gradient descent\"\"\"\n",
    "        n_samples, n_features = X.shape\n",
    "        self.weights = np.zeros(n_features)\n",
    "        \n",
    "        for _ in range(self.n_iterations):\n",
    "            for i in range(n_samples):\n",
    "                if y[i] * (np.dot(X[i], self.weights) + self.bias) < 1:\n",
    "                    # Misclassified point, update weights and bias\n",
    "                    self.weights -= self.learning_rate * (2 * self.lambda_param * self.weights - np.dot(X[i], y[i]))\n",
    "                    self.bias -= self.learning_rate * y[i]\n",
    "                else:\n",
    "                    # Correctly classified point, only regularize weights\n",
    "                    self.weights -= self.learning_rate * 2 * self.lambda_param * self.weights\n",
    "\n",
    "    def predict(self, X):\n",
    "        \"\"\"Make predictions\"\"\"\n",
    "        return np.sign(np.dot(X, self.weights) + self.bias)\n",
    "\n"
   ]
  },
  {
   "cell_type": "code",
   "execution_count": 2,
   "id": "d5d57a2d-9af1-460a-abaf-345a297e45f3",
   "metadata": {},
   "outputs": [
    {
     "name": "stdout",
     "output_type": "stream",
     "text": [
      "Accuracy: 83.33%\n"
     ]
    }
   ],
   "source": [
    "# Load the Iris dataset (only take two classes for binary classification)\n",
    "iris = load_iris()\n",
    "X = iris.data[iris.target != 2][:, :2]  # Take only the first two features\n",
    "y = iris.target[iris.target != 2]  # Take only two classes (0 and 1)\n",
    "y = 2 * y - 1  # Convert labels to -1, 1 (for binary classification)\n",
    "\n",
    "# Split the dataset into training and testing\n",
    "X_train, X_test, y_train, y_test = train_test_split(X, y, test_size=0.3, random_state=42)\n",
    "\n",
    "# Initialize and train the SVM\n",
    "svm = SVM(learning_rate=0.01, lambda_param=0.01, n_iterations=1000)\n",
    "svm.fit(X_train, y_train)\n",
    "\n",
    "# Predict on the test set\n",
    "y_pred = svm.predict(X_test)\n",
    "\n",
    "# Calculate accuracy\n",
    "accuracy = accuracy_score(y_test, y_pred)\n",
    "print(f\"Accuracy: {accuracy * 100:.2f}%\")\n"
   ]
  },
  {
   "cell_type": "code",
   "execution_count": null,
   "id": "5ea215b8-7fe5-49b2-86b3-dc039f39278a",
   "metadata": {},
   "outputs": [],
   "source": []
  }
 ],
 "metadata": {
  "kernelspec": {
   "display_name": "Python 3 (ipykernel)",
   "language": "python",
   "name": "python3"
  },
  "language_info": {
   "codemirror_mode": {
    "name": "ipython",
    "version": 3
   },
   "file_extension": ".py",
   "mimetype": "text/x-python",
   "name": "python",
   "nbconvert_exporter": "python",
   "pygments_lexer": "ipython3",
   "version": "3.12.4"
  }
 },
 "nbformat": 4,
 "nbformat_minor": 5
}
