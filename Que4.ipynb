{
 "cells": [
  {
   "cell_type": "code",
   "execution_count": 1,
   "id": "5e4b3fb7-b1eb-48d0-94e0-26b2ae6f3fc2",
   "metadata": {},
   "outputs": [],
   "source": [
    "import numpy as np\n",
    "from sklearn.tree import DecisionTreeClassifier\n",
    "from sklearn.datasets import load_iris\n",
    "from sklearn.model_selection import train_test_split\n",
    "from sklearn.metrics import accuracy_score"
   ]
  },
  {
   "cell_type": "code",
   "execution_count": null,
   "id": "57def612-329a-47b3-8e37-73dc6ed811f4",
   "metadata": {},
   "outputs": [],
   "source": [
    "class RandomForest:\n",
    "    def __init__(self, n_estimators=10, max_features=None):\n",
    "        self.n_estimators = n_estimators\n",
    "        self.max_features = max_features\n",
    "\n",
    "    def fit(self, X_train, y_train):\n",
    "        self.trees = []\n",
    "        n_samples, n_features = X_train.shape\n",
    "        for _ in range(self.n_estimators):\n",
    "            # Bootstrap sampling\n",
    "            bootstrap_idx = np.random.choice(n_samples, n_samples, replace=True)\n",
    "            X_sample = X_train[bootstrap_idx]\n",
    "            y_sample = y_train[bootstrap_idx]\n",
    "            \n",
    "            # Feature subset for each tree\n",
    "            if self.max_features is None:\n",
    "                max_features = n_features\n",
    "            else:\n",
    "                max_features = self.max_features\n",
    "            features = np.random.choice(n_features, max_features, replace=False)\n",
    "            X_sample = X_sample[:, features]\n",
    "\n",
    "            # Train Decision Tree on the sampled data\n",
    "            tree = DecisionTreeClassifier()\n",
    "            tree.fit(X_sample, y_sample)\n",
    "            self.trees.append((tree, features))\n"
   ]
  },
  {
   "cell_type": "code",
   "execution_count": null,
   "id": "9ef00423-8d3d-4720-951e-deb65066a241",
   "metadata": {},
   "outputs": [],
   "source": [
    "def predict(self, X_test):\n",
    "        # Aggregate predictions from each tree using majority voting\n",
    "        predictions = []\n",
    "        for tree, features in self.trees:\n",
    "            X_test_subset = X_test[:, features]\n",
    "            predictions.append(tree.predict(X_test_subset))\n",
    "        \n",
    "        # Majority voting\n",
    "        predictions = np.array(predictions)\n",
    "        majority_votes = np.apply_along_axis(lambda x: np.bincount(x).argmax(), axis=0, arr=predictions)\n",
    "        return majority_votes\n"
   ]
  },
  {
   "cell_type": "code",
   "execution_count": null,
   "id": "4661b574-a0c5-46b2-8e10-c71e941ba501",
   "metadata": {},
   "outputs": [],
   "source": [
    "# Load Iris dataset\n",
    "data = load_iris()\n",
    "X = data.data\n",
    "y = data.target"
   ]
  },
  {
   "cell_type": "code",
   "execution_count": null,
   "id": "c9580a2a-388f-4037-9641-471ec62b7503",
   "metadata": {},
   "outputs": [],
   "source": [
    "# Split data into training and testing sets\n",
    "X_train, X_test, y_train, y_test = train_test_split(X, y, test_size=0.3, random_state=42)\n",
    "\n",
    "# Initialize and train the RandomForest model\n",
    "rf = RandomForest(n_estimators=10, max_features=2)\n",
    "rf.fit(X_train, y_train)\n",
    "\n",
    "# Make predictions and evaluate the model\n",
    "y_pred = rf.predict(X_test)\n",
    "print(\"Accuracy:\", accuracy_score(y_test, y_pred))"
   ]
  }
 ],
 "metadata": {
  "kernelspec": {
   "display_name": "Python 3 (ipykernel)",
   "language": "python",
   "name": "python3"
  },
  "language_info": {
   "codemirror_mode": {
    "name": "ipython",
    "version": 3
   },
   "file_extension": ".py",
   "mimetype": "text/x-python",
   "name": "python",
   "nbconvert_exporter": "python",
   "pygments_lexer": "ipython3",
   "version": "3.12.4"
  }
 },
 "nbformat": 4,
 "nbformat_minor": 5
}
